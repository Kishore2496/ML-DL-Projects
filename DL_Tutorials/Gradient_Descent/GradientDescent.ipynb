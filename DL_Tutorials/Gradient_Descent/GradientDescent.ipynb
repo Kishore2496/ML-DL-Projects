{
  "nbformat": 4,
  "nbformat_minor": 0,
  "metadata": {
    "colab": {
      "name": "GradientDescent.ipynb",
      "provenance": []
    },
    "kernelspec": {
      "name": "python3",
      "display_name": "Python 3"
    },
    "language_info": {
      "name": "python"
    }
  },
  "cells": [
    {
      "cell_type": "code",
      "metadata": {
        "colab": {
          "base_uri": "https://localhost:8080/"
        },
        "id": "CRlPuMr9SSmk",
        "outputId": "29b3a1d6-a529-4575-f53e-a692ed4e96b4"
      },
      "source": [
        "#import all packages\n",
        "import numpy as np\n",
        "import tensorflow as tf\n",
        "from tensorflow import keras\n",
        "import pandas as pd\n",
        "import matplotlib.pyplot as plt\n",
        "import io\n",
        "%matplotlib.inline"
      ],
      "execution_count": 28,
      "outputs": [
        {
          "output_type": "stream",
          "name": "stderr",
          "text": [
            "UsageError: Line magic function `%matplotlib.inline` not found.\n"
          ]
        }
      ]
    },
    {
      "cell_type": "code",
      "metadata": {
        "id": "M_o9tW_-SzDU"
      },
      "source": [
        "from google.colab import files\n",
        "csvFile = files.upload()"
      ],
      "execution_count": null,
      "outputs": []
    },
    {
      "cell_type": "code",
      "metadata": {
        "id": "i1yEUOOrUw4N"
      },
      "source": [
        "df = pd.read_csv(io.BytesIO(csvFile['insurance_datas.csv']))\n",
        "print(df)"
      ],
      "execution_count": null,
      "outputs": []
    },
    {
      "cell_type": "code",
      "metadata": {
        "id": "2NnyfLISVjcS"
      },
      "source": [
        "#Splitting training and testing data set \n",
        "from sklearn.model_selection import train_test_split\n",
        "X_train, X_test, y_train, y_test = train_test_split(df[['age','affordibility']],df.bought_insurance,test_size=0.2, random_state=25)"
      ],
      "execution_count": 17,
      "outputs": []
    },
    {
      "cell_type": "code",
      "metadata": {
        "id": "5ezq_JhOXP0T"
      },
      "source": [
        "#Scaling down values of Age\n",
        "X_train_scaled = X_train.copy()\n",
        "X_test_scaled = X_test.copy()\n",
        "\n",
        "#Dividing by 100, as age is between 1 - 100\n",
        "X_train_scaled['age'] = X_train['age'] / 100\n",
        "X_test_scaled['age'] = X_test['age'] / 100"
      ],
      "execution_count": 21,
      "outputs": []
    },
    {
      "cell_type": "code",
      "metadata": {
        "id": "Yf2cE5VAXVY0"
      },
      "source": [
        "#Building Neural Network \n",
        "model = keras.Sequential([\n",
        "          keras.layers.Dense(1, input_shape=(2,), activation = 'sigmoid', kernel_initializer='ones', bias_initializer='zeros')\n",
        "])\n",
        "\n",
        "model.compile(\n",
        "    optimizer='adam',\n",
        "    loss='binary_crossentropy',\n",
        "    metrics=['accuracy']\n",
        ")\n",
        "\n",
        "model.fit(X_train_scaled, y_train, epochs = 5000)\n"
      ],
      "execution_count": null,
      "outputs": []
    },
    {
      "cell_type": "code",
      "metadata": {
        "colab": {
          "base_uri": "https://localhost:8080/"
        },
        "id": "QMYG1AFkXaxg",
        "outputId": "dfd4632b-baf3-4053-ed41-4e591f7218f8"
      },
      "source": [
        "#Testing the dataset, yields a 100% accuracy with loss of 0.35\n",
        "model.evaluate(X_test_scaled, y_test)"
      ],
      "execution_count": 27,
      "outputs": [
        {
          "output_type": "stream",
          "name": "stdout",
          "text": [
            "1/1 [==============================] - 0s 137ms/step - loss: 0.3550 - accuracy: 1.0000\n"
          ]
        },
        {
          "output_type": "execute_result",
          "data": {
            "text/plain": [
              "[0.35497748851776123, 1.0]"
            ]
          },
          "metadata": {},
          "execution_count": 27
        }
      ]
    },
    {
      "cell_type": "code",
      "metadata": {
        "colab": {
          "base_uri": "https://localhost:8080/"
        },
        "id": "eEXuJgCca5PU",
        "outputId": "e412ded6-744f-431d-b617-ff181d260771"
      },
      "source": [
        "#finding out my weights and bias\n",
        "coef, intercept = model.get_weights()\n",
        "coef, intercept"
      ],
      "execution_count": 30,
      "outputs": [
        {
          "output_type": "execute_result",
          "data": {
            "text/plain": [
              "(array([[5.0608673],\n",
              "        [1.4086503]], dtype=float32), array([-2.913703], dtype=float32))"
            ]
          },
          "metadata": {},
          "execution_count": 30
        }
      ]
    },
    {
      "cell_type": "code",
      "metadata": {
        "id": "vNq2TFd8kae_"
      },
      "source": [
        "#Create your own activation and prediction function\n",
        "def sigmoid(x):\n",
        "  import math\n",
        "  return 1 / (1+math.exp(-x))\n",
        "\n",
        "def prediction_function(age, affordibiity):\n",
        "  weighted_sum = coef[0] * age + coef[1] * affordibiity + intercept\n",
        "  return sigmoid(weighted_sum)\n",
        "\n"
      ],
      "execution_count": 31,
      "outputs": []
    },
    {
      "cell_type": "code",
      "metadata": {
        "colab": {
          "base_uri": "https://localhost:8080/"
        },
        "id": "Qgah-_JwlXwC",
        "outputId": "f0ed3771-ad9b-434b-d1c1-202dcb7cbc56"
      },
      "source": [
        "prediction_function(.18, 0)"
      ],
      "execution_count": 34,
      "outputs": [
        {
          "output_type": "execute_result",
          "data": {
            "text/plain": [
              "0.11891482501982033"
            ]
          },
          "metadata": {},
          "execution_count": 34
        }
      ]
    },
    {
      "cell_type": "code",
      "metadata": {
        "id": "UQvilu7UlbsG"
      },
      "source": [
        ""
      ],
      "execution_count": null,
      "outputs": []
    }
  ]
}